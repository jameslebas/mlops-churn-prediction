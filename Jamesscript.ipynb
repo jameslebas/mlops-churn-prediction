{
 "cells": [
  {
   "cell_type": "code",
   "execution_count": 3,
   "id": "better-sharp",
   "metadata": {
    "id": "940087fd-789c-49d7-af5e-d85fc69e2841",
    "tags": []
   },
   "outputs": [
    {
     "name": "stdout",
     "output_type": "stream",
     "text": [
      "hello world\n"
     ]
    }
   ],
   "source": [
    "print ('hello world')"
   ]
  },
  {
   "cell_type": "code",
   "execution_count": null,
   "id": "disturbed-comparative",
   "metadata": {
    "id": "99813430-1a20-4618-82ff-48f8f668056c"
   },
   "outputs": [],
   "source": []
  }
 ],
 "metadata": {
  "kernelspec": {
   "display_name": "Python 3.9",
   "language": "python",
   "name": "python3"
  },
  "language_info": {
   "codemirror_mode": {
    "name": "ipython",
    "version": 3
   },
   "file_extension": ".py",
   "mimetype": "text/x-python",
   "name": "python",
   "nbconvert_exporter": "python",
   "pygments_lexer": "ipython3",
   "version": "3.9.7"
  }
 },
 "nbformat": 4,
 "nbformat_minor": 5
}
